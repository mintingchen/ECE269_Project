{
 "cells": [
  {
   "cell_type": "markdown",
   "metadata": {},
   "source": [
    "- [Dataset](https://www.kaggle.com/c/titanic)\n",
    "\n",
    "- Please include documentation at [Overleaf](https://www.overleaf.com/project/5ffbf8c398e5780f308630ef) as you make progress\n"
   ]
  },
  {
   "cell_type": "markdown",
   "metadata": {
    "colab_type": "text",
    "id": "gWZyYmS_UE_L"
   },
   "source": [
    "### Importing the libraries"
   ]
  },
  {
   "cell_type": "code",
   "execution_count": 1,
   "metadata": {},
   "outputs": [],
   "source": [
    "import numpy as np\n",
    "import pandas as pd\n",
    "import math\n",
    "#!pip install datawig\n",
    "import datawig\n",
    "\n",
    "from sklearn.impute import SimpleImputer # used for handling missing data\n",
    "from sklearn.preprocessing import LabelEncoder, OneHotEncoder # used for encoding categorical data\n",
    "from sklearn.model_selection import train_test_split # used for splitting training and testing data\n",
    "from sklearn.preprocessing import StandardScaler # used for feature scaling"
   ]
  },
  {
   "cell_type": "markdown",
   "metadata": {
    "colab_type": "text",
    "id": "1E0Q3aoKUCRX"
   },
   "source": [
    "## Part 1 - Data Preprocessing"
   ]
  },
  {
   "cell_type": "markdown",
   "metadata": {
    "colab_type": "text",
    "id": "cKWAkFVGUU0Z"
   },
   "source": [
    "### Importing the dataset"
   ]
  },
  {
   "cell_type": "code",
   "execution_count": 2,
   "metadata": {},
   "outputs": [],
   "source": [
    "df = pd.read_csv('train.csv')\n",
    "df.head()\n",
    "\n",
    "data = pd.read_csv(\"train.csv\")\n",
    "test = pd.read_csv(\"test.csv\")"
   ]
  },
  {
   "cell_type": "code",
   "execution_count": 3,
   "metadata": {},
   "outputs": [
    {
     "name": "stderr",
     "output_type": "stream",
     "text": [
      "2021-03-20 23:16:01,363 [INFO]  \n",
      "========== start: fit model\n",
      "2021-03-20 23:16:01,364 [WARNING]  Already bound, ignoring bind()\n",
      "2021-03-20 23:16:01,393 [INFO]  Epoch[0] Batch [0-21]\tSpeed: 14805.60 samples/sec\tcross-entropy=16.065413\tAge-accuracy=0.000000\n",
      "2021-03-20 23:16:01,413 [INFO]  Epoch[0] Train-cross-entropy=14.116191\n",
      "2021-03-20 23:16:01,414 [INFO]  Epoch[0] Train-Age-accuracy=0.000000\n",
      "2021-03-20 23:16:01,415 [INFO]  Epoch[0] Time cost=0.047\n",
      "2021-03-20 23:16:01,423 [INFO]  Saved checkpoint to \"imputer_model/model-0000.params\"\n",
      "2021-03-20 23:16:01,429 [INFO]  Epoch[0] Validation-cross-entropy=15.324096\n",
      "2021-03-20 23:16:01,430 [INFO]  Epoch[0] Validation-Age-accuracy=0.000000\n",
      "2021-03-20 23:16:01,463 [INFO]  Epoch[1] Batch [0-21]\tSpeed: 11363.65 samples/sec\tcross-entropy=13.641666\tAge-accuracy=0.000000\n",
      "2021-03-20 23:16:01,487 [INFO]  Epoch[1] Train-cross-entropy=12.505892\n",
      "2021-03-20 23:16:01,488 [INFO]  Epoch[1] Train-Age-accuracy=0.000000\n",
      "2021-03-20 23:16:01,489 [INFO]  Epoch[1] Time cost=0.058\n",
      "2021-03-20 23:16:01,494 [INFO]  Saved checkpoint to \"imputer_model/model-0001.params\"\n",
      "2021-03-20 23:16:01,497 [INFO]  Epoch[1] Validation-cross-entropy=15.878531\n",
      "2021-03-20 23:16:01,498 [INFO]  Epoch[1] Validation-Age-accuracy=0.000000\n",
      "2021-03-20 23:16:01,524 [INFO]  Epoch[2] Batch [0-21]\tSpeed: 14393.98 samples/sec\tcross-entropy=13.239680\tAge-accuracy=0.000000\n",
      "2021-03-20 23:16:01,545 [INFO]  Epoch[2] Train-cross-entropy=12.213769\n",
      "2021-03-20 23:16:01,546 [INFO]  Epoch[2] Train-Age-accuracy=0.000000\n",
      "2021-03-20 23:16:01,546 [INFO]  Epoch[2] Time cost=0.048\n",
      "2021-03-20 23:16:01,553 [INFO]  Saved checkpoint to \"imputer_model/model-0002.params\"\n",
      "2021-03-20 23:16:01,557 [INFO]  Epoch[2] Validation-cross-entropy=15.881980\n",
      "2021-03-20 23:16:01,558 [INFO]  Epoch[2] Validation-Age-accuracy=0.000000\n",
      "2021-03-20 23:16:01,593 [INFO]  Epoch[3] Batch [0-21]\tSpeed: 10536.25 samples/sec\tcross-entropy=13.001678\tAge-accuracy=0.000000\n",
      "2021-03-20 23:16:01,617 [INFO]  Epoch[3] Train-cross-entropy=12.041022\n",
      "2021-03-20 23:16:01,617 [INFO]  Epoch[3] Train-Age-accuracy=0.000000\n",
      "2021-03-20 23:16:01,618 [INFO]  Epoch[3] Time cost=0.059\n",
      "2021-03-20 23:16:01,625 [INFO]  Saved checkpoint to \"imputer_model/model-0003.params\"\n",
      "2021-03-20 23:16:01,630 [INFO]  Epoch[3] Validation-cross-entropy=15.796783\n",
      "2021-03-20 23:16:01,631 [INFO]  Epoch[3] Validation-Age-accuracy=0.000000\n",
      "2021-03-20 23:16:01,668 [INFO]  Epoch[4] Batch [0-21]\tSpeed: 10434.83 samples/sec\tcross-entropy=12.809892\tAge-accuracy=0.000000\n",
      "2021-03-20 23:16:01,695 [INFO]  Epoch[4] Train-cross-entropy=11.909992\n",
      "2021-03-20 23:16:01,696 [INFO]  Epoch[4] Train-Age-accuracy=0.000000\n",
      "2021-03-20 23:16:01,697 [INFO]  Epoch[4] Time cost=0.064\n",
      "2021-03-20 23:16:01,703 [INFO]  Saved checkpoint to \"imputer_model/model-0004.params\"\n",
      "2021-03-20 23:16:01,708 [INFO]  Epoch[4] Validation-cross-entropy=15.738213\n",
      "2021-03-20 23:16:01,709 [INFO]  Epoch[4] Validation-Age-accuracy=0.000000\n",
      "2021-03-20 23:16:01,739 [INFO]  Epoch[5] Batch [0-21]\tSpeed: 12745.19 samples/sec\tcross-entropy=12.657944\tAge-accuracy=0.000000\n",
      "2021-03-20 23:16:01,759 [INFO]  Epoch[5] Train-cross-entropy=11.810536\n",
      "2021-03-20 23:16:01,760 [INFO]  Epoch[5] Train-Age-accuracy=0.000000\n",
      "2021-03-20 23:16:01,761 [INFO]  Epoch[5] Time cost=0.051\n",
      "2021-03-20 23:16:01,765 [INFO]  Saved checkpoint to \"imputer_model/model-0005.params\"\n",
      "2021-03-20 23:16:01,771 [INFO]  No improvement detected for 5 epochs compared to 15.324096488952637 last error obtained: 15.680647087097167, stopping here\n",
      "2021-03-20 23:16:01,771 [INFO]  \n",
      "========== done (0.40877699851989746 s) fit model\n",
      "/Users/xiaoyangpan/opt/anaconda3/lib/python3.7/site-packages/ipykernel_launcher.py:29: SettingWithCopyWarning: \n",
      "A value is trying to be set on a copy of a slice from a DataFrame\n",
      "\n",
      "See the caveats in the documentation: https://pandas.pydata.org/pandas-docs/stable/user_guide/indexing.html#returning-a-view-versus-a-copy\n",
      "/Users/xiaoyangpan/opt/anaconda3/lib/python3.7/site-packages/ipykernel_launcher.py:35: SettingWithCopyWarning: \n",
      "A value is trying to be set on a copy of a slice from a DataFrame\n",
      "\n",
      "See the caveats in the documentation: https://pandas.pydata.org/pandas-docs/stable/user_guide/indexing.html#returning-a-view-versus-a-copy\n"
     ]
    }
   ],
   "source": [
    "to_exclude = [i+1 for i in range(len(data['Age'])) if math.isnan(data['Age'][i])]\n",
    "to_keep = [i+1 for i in range(len(data['Age'])) if not math.isnan(data['Age'][i])]\n",
    "\n",
    "df_train = pd.read_csv(\"train.csv\", skiprows = to_exclude)\n",
    "df_test = pd.read_csv(\"train.csv\", skiprows = to_keep)\n",
    "\n",
    "to_keep_t = [i+1 for i in range(len(test['Age'])) if not math.isnan(test['Age'][i])]\n",
    "\n",
    "df_test_t = pd.read_csv(\"test.csv\", skiprows = to_keep_t)\n",
    "\n",
    "#Initialize a SimpleImputer model\n",
    "imputer = datawig.SimpleImputer(\n",
    "    input_columns=['Pclass','SibSp','Parch'], # column(s) containing information about the column we want to impute\n",
    "    output_column= 'Age', # the column we'd like to impute values for\n",
    "    output_path = 'imputer_model' # stores model data and metrics\n",
    "    )\n",
    "\n",
    "#Fit an imputer model on the train data\n",
    "imputer.fit(train_df=df_train, num_epochs=50)\n",
    "\n",
    "#Impute missing values and return original L with predictions\n",
    "imputed = imputer.predict(df_test)\n",
    "test_imputed = imputer.predict(df_test_t)\n",
    "\n",
    "cnt=0\n",
    "for i in range(len(df['Age'])):\n",
    "    \n",
    "    if math.isnan(df['Age'][i]):\n",
    "        df['Age'][i] = imputed['Age_imputed'][cnt]\n",
    "        cnt+=1\n",
    "\n",
    "cnt =  0\n",
    "for j in range(len(test['Age'])):\n",
    "    if math.isnan(test['Age'][j]):\n",
    "        test['Age'][j] = test_imputed['Age_imputed'][cnt]\n",
    "        cnt+=1"
   ]
  },
  {
   "cell_type": "code",
   "execution_count": 4,
   "metadata": {},
   "outputs": [],
   "source": [
    "df['Sex'],unique= pd.factorize(df.Sex)\n",
    "df['Embarked'],uniqueembark = pd.factorize(df.Embarked)\n",
    "test['Sex'],unique_t = pd.factorize(test.Sex)\n",
    "test['Embarked'],uniqueembark_t = pd.factorize(test.Embarked)"
   ]
  },
  {
   "cell_type": "code",
   "execution_count": 5,
   "metadata": {},
   "outputs": [
    {
     "name": "stderr",
     "output_type": "stream",
     "text": [
      "/Users/xiaoyangpan/opt/anaconda3/lib/python3.7/site-packages/pandas/core/frame.py:3191: SettingWithCopyWarning: \n",
      "A value is trying to be set on a copy of a slice from a DataFrame.\n",
      "Try using .loc[row_indexer,col_indexer] = value instead\n",
      "\n",
      "See the caveats in the documentation: https://pandas.pydata.org/pandas-docs/stable/user_guide/indexing.html#returning-a-view-versus-a-copy\n",
      "  self[k1] = value[k2]\n",
      "/Users/xiaoyangpan/opt/anaconda3/lib/python3.7/site-packages/sklearn/metrics/_classification.py:1245: UndefinedMetricWarning: Precision is ill-defined and being set to 0.0 in labels with no predicted samples. Use `zero_division` parameter to control this behavior.\n",
      "  _warn_prf(average, modifier, msg_start, len(result))\n",
      "/Users/xiaoyangpan/opt/anaconda3/lib/python3.7/site-packages/sklearn/metrics/_classification.py:1245: UndefinedMetricWarning: Recall is ill-defined and being set to 0.0 in labels with no true samples. Use `zero_division` parameter to control this behavior.\n",
      "  _warn_prf(average, modifier, msg_start, len(result))\n",
      "/Users/xiaoyangpan/opt/anaconda3/lib/python3.7/site-packages/sklearn/metrics/_classification.py:1245: UndefinedMetricWarning: Precision is ill-defined and being set to 0.0 in labels with no predicted samples. Use `zero_division` parameter to control this behavior.\n",
      "  _warn_prf(average, modifier, msg_start, len(result))\n",
      "/Users/xiaoyangpan/opt/anaconda3/lib/python3.7/site-packages/sklearn/metrics/_classification.py:1245: UndefinedMetricWarning: Recall is ill-defined and being set to 0.0 in labels with no true samples. Use `zero_division` parameter to control this behavior.\n",
      "  _warn_prf(average, modifier, msg_start, len(result))\n",
      "/Users/xiaoyangpan/opt/anaconda3/lib/python3.7/site-packages/sklearn/metrics/_classification.py:1245: UndefinedMetricWarning: Precision is ill-defined and being set to 0.0 in labels with no predicted samples. Use `zero_division` parameter to control this behavior.\n",
      "  _warn_prf(average, modifier, msg_start, len(result))\n",
      "/Users/xiaoyangpan/opt/anaconda3/lib/python3.7/site-packages/datawig/calibration.py:92: RuntimeWarning: divide by zero encountered in log\n",
      "  return np.log(probas)\n",
      "/Users/xiaoyangpan/opt/anaconda3/lib/python3.7/site-packages/ipykernel_launcher.py:31: SettingWithCopyWarning: \n",
      "A value is trying to be set on a copy of a slice from a DataFrame\n",
      "\n",
      "See the caveats in the documentation: https://pandas.pydata.org/pandas-docs/stable/user_guide/indexing.html#returning-a-view-versus-a-copy\n",
      "/Users/xiaoyangpan/opt/anaconda3/lib/python3.7/site-packages/ipykernel_launcher.py:37: SettingWithCopyWarning: \n",
      "A value is trying to be set on a copy of a slice from a DataFrame\n",
      "\n",
      "See the caveats in the documentation: https://pandas.pydata.org/pandas-docs/stable/user_guide/indexing.html#returning-a-view-versus-a-copy\n"
     ]
    }
   ],
   "source": [
    "to_exclude1 = [i+1 for i in range(len(data['Cabin'])) if not isinstance(data['Cabin'][i],str)]\n",
    "to_keep1 = [i+1 for i in range(len(data['Cabin'])) if isinstance(data['Cabin'][i],str)]\n",
    "\n",
    "test1 = pd.read_csv(\"test.csv\")\n",
    "\n",
    "df_train1 = pd.read_csv(\"train.csv\", skiprows = to_exclude1)\n",
    "df_test1 = pd.read_csv(\"train.csv\", skiprows = to_keep1)\n",
    "\n",
    "to_keep_t1 = [i+1 for i in range(len(test1['Cabin'])) if isinstance(test1['Cabin'][i],str)]\n",
    "\n",
    "df_test1_t = pd.read_csv(\"test.csv\", skiprows = to_keep_t1)\n",
    "\n",
    "#Initialize a SimpleImputer model\n",
    "imputer = datawig.SimpleImputer(\n",
    "    input_columns=['Pclass','Fare','Embarked'], # column(s) containing information about the column we want to impute\n",
    "    output_column= 'Cabin', # the column we'd like to impute values for\n",
    "    output_path = 'imputer_model' # stores model data and metrics\n",
    "    )\n",
    "\n",
    "#Fit an imputer model on the train data\n",
    "imputer.fit(train_df=df_train1, num_epochs=50)\n",
    "\n",
    "#Impute missing values and return original dataframe with predictions\n",
    "imputed = imputer.predict(df_test1)\n",
    "test_imputed = imputer.predict(df_test1_t)\n",
    "\n",
    "cnt=0\n",
    "for i in range(len(df['Cabin'])):\n",
    "    \n",
    "    if not isinstance(data['Cabin'][i],str):\n",
    "        df['Cabin'][i] = imputed['Cabin_imputed'][cnt]\n",
    "        cnt+=1\n",
    "        \n",
    "cnt =  0\n",
    "for j in range(len(test['Cabin'])):\n",
    "    if not isinstance(test['Cabin'][j],str):\n",
    "        test['Cabin'][j] = test_imputed['Cabin_imputed'][cnt]\n",
    "        cnt+=1"
   ]
  },
  {
   "cell_type": "code",
   "execution_count": 6,
   "metadata": {},
   "outputs": [],
   "source": [
    "df['Cabin'],uniquecabin = pd.factorize(df.Cabin)\n",
    "test['Cabin'],uniquecabin_t = pd.factorize(test.Cabin)"
   ]
  },
  {
   "cell_type": "code",
   "execution_count": 7,
   "metadata": {},
   "outputs": [],
   "source": [
    "f= pd.read_csv(\"GroundTruth.csv\")\n",
    "f = f.drop(index = 152)\n",
    "test = test.drop(index=152)\n",
    "\n",
    "#df=  df.drop(['Name','Ticket'],axis =1)\n",
    "#test = test.drop(['Name','Ticket'],axis =1)\n",
    "df=  df.drop(['Name','Ticket','PassengerId'],axis =1)\n",
    "test = test.drop(['Name','Ticket','PassengerId'],axis =1)"
   ]
  },
  {
   "cell_type": "code",
   "execution_count": 8,
   "metadata": {},
   "outputs": [
    {
     "data": {
      "text/html": [
       "<div>\n",
       "<style scoped>\n",
       "    .dataframe tbody tr th:only-of-type {\n",
       "        vertical-align: middle;\n",
       "    }\n",
       "\n",
       "    .dataframe tbody tr th {\n",
       "        vertical-align: top;\n",
       "    }\n",
       "\n",
       "    .dataframe thead th {\n",
       "        text-align: right;\n",
       "    }\n",
       "</style>\n",
       "<table border=\"1\" class=\"dataframe\">\n",
       "  <thead>\n",
       "    <tr style=\"text-align: right;\">\n",
       "      <th></th>\n",
       "      <th>Survived</th>\n",
       "      <th>Pclass</th>\n",
       "      <th>Sex</th>\n",
       "      <th>Age</th>\n",
       "      <th>SibSp</th>\n",
       "      <th>Parch</th>\n",
       "      <th>Fare</th>\n",
       "      <th>Cabin</th>\n",
       "      <th>Embarked</th>\n",
       "    </tr>\n",
       "  </thead>\n",
       "  <tbody>\n",
       "    <tr>\n",
       "      <th>0</th>\n",
       "      <td>0</td>\n",
       "      <td>3</td>\n",
       "      <td>0</td>\n",
       "      <td>22.000000</td>\n",
       "      <td>1</td>\n",
       "      <td>0</td>\n",
       "      <td>7.2500</td>\n",
       "      <td>0</td>\n",
       "      <td>0</td>\n",
       "    </tr>\n",
       "    <tr>\n",
       "      <th>1</th>\n",
       "      <td>1</td>\n",
       "      <td>1</td>\n",
       "      <td>1</td>\n",
       "      <td>38.000000</td>\n",
       "      <td>1</td>\n",
       "      <td>0</td>\n",
       "      <td>71.2833</td>\n",
       "      <td>1</td>\n",
       "      <td>1</td>\n",
       "    </tr>\n",
       "    <tr>\n",
       "      <th>2</th>\n",
       "      <td>1</td>\n",
       "      <td>3</td>\n",
       "      <td>1</td>\n",
       "      <td>26.000000</td>\n",
       "      <td>0</td>\n",
       "      <td>0</td>\n",
       "      <td>7.9250</td>\n",
       "      <td>0</td>\n",
       "      <td>0</td>\n",
       "    </tr>\n",
       "    <tr>\n",
       "      <th>3</th>\n",
       "      <td>1</td>\n",
       "      <td>1</td>\n",
       "      <td>1</td>\n",
       "      <td>35.000000</td>\n",
       "      <td>1</td>\n",
       "      <td>0</td>\n",
       "      <td>53.1000</td>\n",
       "      <td>2</td>\n",
       "      <td>0</td>\n",
       "    </tr>\n",
       "    <tr>\n",
       "      <th>4</th>\n",
       "      <td>0</td>\n",
       "      <td>3</td>\n",
       "      <td>0</td>\n",
       "      <td>35.000000</td>\n",
       "      <td>0</td>\n",
       "      <td>0</td>\n",
       "      <td>8.0500</td>\n",
       "      <td>0</td>\n",
       "      <td>0</td>\n",
       "    </tr>\n",
       "    <tr>\n",
       "      <th>...</th>\n",
       "      <td>...</td>\n",
       "      <td>...</td>\n",
       "      <td>...</td>\n",
       "      <td>...</td>\n",
       "      <td>...</td>\n",
       "      <td>...</td>\n",
       "      <td>...</td>\n",
       "      <td>...</td>\n",
       "      <td>...</td>\n",
       "    </tr>\n",
       "    <tr>\n",
       "      <th>886</th>\n",
       "      <td>0</td>\n",
       "      <td>2</td>\n",
       "      <td>0</td>\n",
       "      <td>27.000000</td>\n",
       "      <td>0</td>\n",
       "      <td>0</td>\n",
       "      <td>13.0000</td>\n",
       "      <td>6</td>\n",
       "      <td>0</td>\n",
       "    </tr>\n",
       "    <tr>\n",
       "      <th>887</th>\n",
       "      <td>1</td>\n",
       "      <td>1</td>\n",
       "      <td>1</td>\n",
       "      <td>19.000000</td>\n",
       "      <td>0</td>\n",
       "      <td>0</td>\n",
       "      <td>30.0000</td>\n",
       "      <td>145</td>\n",
       "      <td>0</td>\n",
       "    </tr>\n",
       "    <tr>\n",
       "      <th>888</th>\n",
       "      <td>0</td>\n",
       "      <td>3</td>\n",
       "      <td>1</td>\n",
       "      <td>26.043645</td>\n",
       "      <td>1</td>\n",
       "      <td>2</td>\n",
       "      <td>23.4500</td>\n",
       "      <td>0</td>\n",
       "      <td>0</td>\n",
       "    </tr>\n",
       "    <tr>\n",
       "      <th>889</th>\n",
       "      <td>1</td>\n",
       "      <td>1</td>\n",
       "      <td>0</td>\n",
       "      <td>26.000000</td>\n",
       "      <td>0</td>\n",
       "      <td>0</td>\n",
       "      <td>30.0000</td>\n",
       "      <td>146</td>\n",
       "      <td>1</td>\n",
       "    </tr>\n",
       "    <tr>\n",
       "      <th>890</th>\n",
       "      <td>0</td>\n",
       "      <td>3</td>\n",
       "      <td>0</td>\n",
       "      <td>32.000000</td>\n",
       "      <td>0</td>\n",
       "      <td>0</td>\n",
       "      <td>7.7500</td>\n",
       "      <td>0</td>\n",
       "      <td>2</td>\n",
       "    </tr>\n",
       "  </tbody>\n",
       "</table>\n",
       "<p>891 rows × 9 columns</p>\n",
       "</div>"
      ],
      "text/plain": [
       "     Survived  Pclass  Sex        Age  SibSp  Parch     Fare  Cabin  Embarked\n",
       "0           0       3    0  22.000000      1      0   7.2500      0         0\n",
       "1           1       1    1  38.000000      1      0  71.2833      1         1\n",
       "2           1       3    1  26.000000      0      0   7.9250      0         0\n",
       "3           1       1    1  35.000000      1      0  53.1000      2         0\n",
       "4           0       3    0  35.000000      0      0   8.0500      0         0\n",
       "..        ...     ...  ...        ...    ...    ...      ...    ...       ...\n",
       "886         0       2    0  27.000000      0      0  13.0000      6         0\n",
       "887         1       1    1  19.000000      0      0  30.0000    145         0\n",
       "888         0       3    1  26.043645      1      2  23.4500      0         0\n",
       "889         1       1    0  26.000000      0      0  30.0000    146         1\n",
       "890         0       3    0  32.000000      0      0   7.7500      0         2\n",
       "\n",
       "[891 rows x 9 columns]"
      ]
     },
     "execution_count": 8,
     "metadata": {},
     "output_type": "execute_result"
    }
   ],
   "source": [
    "frop\n"
   ]
  },
  {
   "cell_type": "code",
   "execution_count": 9,
   "metadata": {},
   "outputs": [],
   "source": [
    "\n",
    "#X = np.concatenate((np.reshape(X1,(len(X1),1)),X2),axis=1)\n",
    "X = df.iloc[:,1:].values\n",
    "#Y = df.iloc[:,1].values\n",
    "Y = df.iloc[:,0].values\n",
    "xt = test.iloc[:,:].values\n",
    "yt = f.iloc[:,1].values"
   ]
  },
  {
   "cell_type": "code",
   "execution_count": null,
   "metadata": {},
   "outputs": [],
   "source": []
  },
  {
   "cell_type": "code",
   "execution_count": 30,
   "metadata": {},
   "outputs": [
    {
     "name": "stdout",
     "output_type": "stream",
     "text": [
      "              precision    recall  f1-score   support\n",
      "\n",
      "           0       0.96      0.66      0.78       377\n",
      "           1       0.18      0.72      0.29        40\n",
      "\n",
      "    accuracy                           0.66       417\n",
      "   macro avg       0.57      0.69      0.54       417\n",
      "weighted avg       0.88      0.66      0.73       417\n",
      "\n",
      "0.6642685851318945\n"
     ]
    },
    {
     "data": {
      "text/plain": [
       "<AxesSubplot:>"
      ]
     },
     "execution_count": 30,
     "metadata": {},
     "output_type": "execute_result"
    },
    {
     "data": {
      "image/png": "[encoded data removed]",
      "text/plain": [
       "<Figure size 432x288 with 2 Axes>"
      ]
     },
     "metadata": {
      "needs_background": "light"
     },
     "output_type": "display_data"
    }
   ],
   "source": [
    "from sklearn.linear_model import LogisticRegression\n",
    "from sklearn.metrics import accuracy_score,confusion_matrix, classification_report\n",
    "\n",
    "Model = LogisticRegression()\n",
    "Model.fit(X,Y)\n",
    "y_pred = Model.predict(xt)\n",
    "accuracy_score = accuracy_score(y_pred,yt)\n",
    "print(classification_report(y_pred,yt))\n",
    "print(accuracy_score)\n",
    "\n",
    "import seaborn as sns\n",
    "sns.heatmap(confusion_matrix(y_pred,yt),annot = True)"
   ]
  },
  {
   "cell_type": "code",
   "execution_count": 11,
   "metadata": {},
   "outputs": [],
   "source": [
    "from sklearn.preprocessing import MinMaxScaler\n",
    "sc  = MinMaxScaler(feature_range=(0,1))\n",
    "X = sc.fit_transform(X)"
   ]
  },
  {
   "cell_type": "code",
   "execution_count": 28,
   "metadata": {},
   "outputs": [
    {
     "data": {
      "image/png": "[encoded data removed]",
      "text/plain": [
       "<Figure size 432x288 with 2 Axes>"
      ]
     },
     "metadata": {
      "needs_background": "light"
     },
     "output_type": "display_data"
    }
   ],
   "source": [
    "fig, ax = plt.subplots()\n",
    "confusion = confusion_matrix(y_pred,yt)\n",
    "\n",
    "im = ax.imshow(confusion, cmap=plt.cm.Blues)\n",
    "ax.figure.colorbar(im, ax=ax)\n",
    "\n",
    "ax.set(yticks=[0, 1], \n",
    "       xticks=[0, 1], \n",
    "       yticklabels=['Ground Truth: Survived', 'Ground Truth: Not Survived'], \n",
    "       xticklabels=['Predict: Survived', 'Predict: Not Survived'])\n",
    "\n",
    "for (r, c), val in np.ndenumerate(confusion):\n",
    "    ax.text(c, r, '{:0.1f}'.format(val), ha='center', va='center')"
   ]
  },
  {
   "cell_type": "code",
   "execution_count": 12,
   "metadata": {},
   "outputs": [],
   "source": [
    "from minisom import MiniSom\n",
    "\n",
    "som = MiniSom(x = 8,y=8, input_len = 8,sigma = 1.0,learning_rate = 0.05)\n",
    "som.random_weights_init(X)\n",
    "som.train_random(data = X,num_iteration = 100)"
   ]
  },
  {
   "cell_type": "code",
   "execution_count": 29,
   "metadata": {},
   "outputs": [
    {
     "data": {
      "text/plain": [
       "(417,)"
      ]
     },
     "execution_count": 29,
     "metadata": {},
     "output_type": "execute_result"
    }
   ],
   "source": [
    "y_pred.shape"
   ]
  },
  {
   "cell_type": "code",
   "execution_count": 14,
   "metadata": {},
   "outputs": [
    {
     "data": {
      "image/png": "[encoded data removed]",
      "text/plain": [
       "<Figure size 432x288 with 1 Axes>"
      ]
     },
     "metadata": {
      "needs_background": "light"
     },
     "output_type": "display_data"
    }
   ],
   "source": [
    "from pylab import plot,show, pcolor\n",
    "import pylab\n",
    "marker = ['x','o']\n",
    "color = ['g','r']\n",
    "pylab.bone()\n",
    "pcolor(som.distance_map().T)\n",
    "for i,x in enumerate(X):\n",
    "    w = som.winner(x)\n",
    "    plot(w[0]+0.5,w[1]+0.5,marker[Y[i]],markeredgecolor = color[Y[i]],markerfacecolor =  'None',\n",
    "         markersize=15,markeredgewidth = 1)"
   ]
  },
  {
   "cell_type": "code",
   "execution_count": 15,
   "metadata": {},
   "outputs": [],
   "source": [
    "from sklearn.neighbors import KNeighborsClassifier\n",
    "import math\n",
    "K = round(math.sqrt(df.shape[0]))\n",
    "if(K%2==0):\n",
    "    K=K+1"
   ]
  },
  {
   "cell_type": "code",
   "execution_count": 25,
   "metadata": {},
   "outputs": [
    {
     "name": "stdout",
     "output_type": "stream",
     "text": [
      "              precision    recall  f1-score   support\n",
      "\n",
      "           0       0.91      0.77      0.83       305\n",
      "           1       0.56      0.79      0.65       112\n",
      "\n",
      "    accuracy                           0.77       417\n",
      "   macro avg       0.73      0.78      0.74       417\n",
      "weighted avg       0.81      0.77      0.78       417\n",
      "\n",
      "0.7745803357314148\n"
     ]
    }
   ],
   "source": [
    "from sklearn.metrics import accuracy_score\n",
    "knn = KNeighborsClassifier(n_neighbors = K,p=1)\n",
    "knn.fit(X,Y)\n",
    "y_pred = knn.predict(xt)\n",
    "accuracy_score = accuracy_score(y_pred,yt)\n",
    "print(classification_report(y_pred,yt))\n",
    "print(accuracy_score)"
   ]
  },
  {
   "cell_type": "code",
   "execution_count": 26,
   "metadata": {},
   "outputs": [
    {
     "data": {
      "image/png": "[encoded data removed]",
      "text/plain": [
       "<Figure size 432x288 with 2 Axes>"
      ]
     },
     "metadata": {
      "needs_background": "light"
     },
     "output_type": "display_data"
    }
   ],
   "source": []
  },
  {
   "cell_type": "code",
   "execution_count": 18,
   "metadata": {},
   "outputs": [],
   "source": [
    "a = confusion_matrix(y_pred,yt)"
   ]
  },
  {
   "cell_type": "code",
   "execution_count": null,
   "metadata": {},
   "outputs": [],
   "source": []
  },
  {
   "cell_type": "code",
   "execution_count": 19,
   "metadata": {},
   "outputs": [],
   "source": [
    "confusion = pd.DataFrame(confusion_matrix(y_pred,yt),\n",
    "     index=['Survived', 'Not Survived'],\n",
    "     columns=['Predict Survived', 'Predict Not Survived'])"
   ]
  },
  {
   "cell_type": "code",
   "execution_count": null,
   "metadata": {},
   "outputs": [],
   "source": []
  },
  {
   "cell_type": "code",
   "execution_count": 20,
   "metadata": {},
   "outputs": [
    {
     "data": {
      "image/png": "[encoded data removed]",
      "text/plain": [
       "<Figure size 432x288 with 2 Axes>"
      ]
     },
     "metadata": {
      "needs_background": "light"
     },
     "output_type": "display_data"
    }
   ],
   "source": [
    "import matplotlib.pyplot as plt \n",
    "import matplotlib\n",
    "\n",
    "fig, ax = plt.subplots()\n",
    "confusion = confusion_matrix(y_pred,yt)\n",
    "\n",
    "im = ax.imshow(confusion, cmap=plt.cm.Blues)\n",
    "ax.figure.colorbar(im, ax=ax)\n",
    "\n",
    "ax.set(yticks=[0, 1], \n",
    "       xticks=[0, 1], \n",
    "       yticklabels=['Ground Truth: Survived', 'Ground Truth: Not Survived'], \n",
    "       xticklabels=['Predict: Survived', 'Predict: Not Survived'])\n",
    "\n",
    "for (r, c), val in np.ndenumerate(confusion):\n",
    "    ax.text(c, r, '{:0.1f}'.format(val), ha='center', va='center')\n"
   ]
  },
  {
   "cell_type": "code",
   "execution_count": null,
   "metadata": {},
   "outputs": [],
   "source": []
  },
  {
   "cell_type": "code",
   "execution_count": null,
   "metadata": {},
   "outputs": [],
   "source": []
  }
 ],
 "metadata": {
  "kernelspec": {
   "display_name": "Python 3",
   "language": "python",
   "name": "python3"
  },
  "language_info": {
   "codemirror_mode": {
    "name": "ipython",
    "version": 3
   },
   "file_extension": ".py",
   "mimetype": "text/x-python",
   "name": "python",
   "nbconvert_exporter": "python",
   "pygments_lexer": "ipython3",
   "version": "3.7.10"
  }
 },
 "nbformat": 4,
 "nbformat_minor": 4
}
